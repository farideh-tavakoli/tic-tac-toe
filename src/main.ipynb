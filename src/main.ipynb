{
 "cells": [
  {
   "cell_type": "markdown",
   "metadata": {},
   "source": [
    "- TicTacToe\n",
    "    - [X] __init__\n",
    "    - [x] random_first_player\n",
    "    - [x] show_board\n",
    "    - [x] fix_choice\n",
    "    - [x] board_full\n",
    "    - [x]swap_player\n",
    "    - has_player_won\n"
   ]
  },
  {
   "cell_type": "code",
   "execution_count": 128,
   "metadata": {},
   "outputs": [],
   "source": [
    "import random\n",
    "\n",
    "class TicTacToe:\n",
    "    def __init__(self):\n",
    "        self.board = list(' ' * 10)\n",
    "        self.player_turn = self.random_first_player()\n",
    "\n",
    "    def random_first_player(self):\n",
    "        return random.choice(['X', 'O'])\n",
    "    \n",
    "    def show_board(self):\n",
    "        print(\"\\n\")\n",
    "        print(f\"{self.board[1]}|{self.board[2]}|{self.board[3]}\")\n",
    "        print(\"-----\")\n",
    "        print(f\"{self.board[4]}|{self.board[5]}|{self.board[6]}\")\n",
    "        print(\"-----\")\n",
    "        print(f\"{self.board[7]}|{self.board[8]}|{self.board[9]}\")\n",
    "        print(\"\\n\")\n",
    "\n",
    "    def is_board_full(self):\n",
    "        return ' ' not in self.board[1:]\n",
    "    \n",
    "    def swap_player(self):\n",
    "        if self.player_turn == 'X':\n",
    "            self.player_turn = 'O' \n",
    "        else:\n",
    "            self.player_turn = 'X'\n",
    "\n",
    "    def fix_spot(self, cell, player):\n",
    "        self.board[cell] = player\n",
    "\n",
    "    def has_player_won(self, player):\n",
    "        win_combinations = [\n",
    "            [1, 2, 3], [4, 5, 6], [7, 8, 9],\n",
    "            [1, 4, 7], [2, 5, 8], [3, 6, 9],\n",
    "            [1, 5, 9], [3, 5, 7]\n",
    "        ]\n",
    "\n",
    "        for win in win_combinations:\n",
    "            if all([self.board[cell] == player for cell in win]):\n",
    "                return True\n",
    "            \n",
    "        return False\n",
    "    \n",
    "    def start(self):\n",
    "        while True:\n",
    "            self.showboard()\n",
    "            print(f\"Player {self.player_turn} turn\")\n",
    "            cell = int(input(\"Enter sell number from 1 to 9: \"))\n",
    "\n",
    "            if 1 <= cell <= 9 and self.board[cell] == ' ':\n",
    "                self.fix_spot(cell, self.player_turn)\n",
    "\n",
    "                if self.has_player_won(self.player_turn):\n",
    "                    self.show_board()\n",
    "                    print(\"Congrats! You Won!\")\n",
    "                    break\n",
    "\n",
    "                if self.is_board_full():\n",
    "                    print(\"Draw!\")\n",
    "                    break\n",
    "\n",
    "            else:\n",
    "                print(\"Invalid choice. Try again\")\n",
    "                continue\n",
    "    \n",
    "\n",
    "\n",
    "\n",
    "\n",
    "\n"
   ]
  },
  {
   "cell_type": "code",
   "execution_count": null,
   "metadata": {},
   "outputs": [],
   "source": []
  },
  {
   "cell_type": "code",
   "execution_count": 129,
   "metadata": {},
   "outputs": [],
   "source": [
    "game = TicTacToe()"
   ]
  },
  {
   "cell_type": "code",
   "execution_count": 130,
   "metadata": {},
   "outputs": [
    {
     "name": "stdout",
     "output_type": "stream",
     "text": [
      "\n",
      "\n",
      " | | \n",
      "-----\n",
      " | | \n",
      "-----\n",
      " | | \n",
      "\n",
      "\n"
     ]
    }
   ],
   "source": [
    "game.show_board()"
   ]
  },
  {
   "cell_type": "code",
   "execution_count": 119,
   "metadata": {},
   "outputs": [
    {
     "data": {
      "text/plain": [
       "'O'"
      ]
     },
     "execution_count": 119,
     "metadata": {},
     "output_type": "execute_result"
    }
   ],
   "source": [
    "game.player_turn"
   ]
  },
  {
   "cell_type": "code",
   "execution_count": 120,
   "metadata": {},
   "outputs": [],
   "source": [
    "game.fix_choice(1, 'X')\n",
    "game.fix_choice(2, 'X')\n",
    "game.fix_choice(3, 'X')"
   ]
  },
  {
   "cell_type": "code",
   "execution_count": 121,
   "metadata": {},
   "outputs": [
    {
     "name": "stdout",
     "output_type": "stream",
     "text": [
      "X|X|X\n",
      "_____\n",
      " | | \n",
      "_____\n",
      " | | \n"
     ]
    }
   ],
   "source": [
    "game.show_board()"
   ]
  },
  {
   "cell_type": "code",
   "execution_count": 123,
   "metadata": {},
   "outputs": [
    {
     "data": {
      "text/plain": [
       "False"
      ]
     },
     "execution_count": 123,
     "metadata": {},
     "output_type": "execute_result"
    }
   ],
   "source": [
    "game.has_player_won('O')"
   ]
  },
  {
   "cell_type": "code",
   "execution_count": null,
   "metadata": {},
   "outputs": [],
   "source": []
  }
 ],
 "metadata": {
  "kernelspec": {
   "display_name": "pytopia",
   "language": "python",
   "name": "python3"
  },
  "language_info": {
   "codemirror_mode": {
    "name": "ipython",
    "version": 3
   },
   "file_extension": ".py",
   "mimetype": "text/x-python",
   "name": "python",
   "nbconvert_exporter": "python",
   "pygments_lexer": "ipython3",
   "version": "3.10.13"
  }
 },
 "nbformat": 4,
 "nbformat_minor": 2
}
